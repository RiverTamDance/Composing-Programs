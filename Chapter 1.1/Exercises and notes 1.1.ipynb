{
 "cells": [
  {
   "cell_type": "code",
   "execution_count": null,
   "metadata": {},
   "outputs": [],
   "source": [
    "## Chapter 1.1 in Composing Programs\n",
    "\n",
    "###I need to remember these three commands for whenever I want to commit my code to github.\n",
    "# git stage *\n",
    "# git commit -m \"\"\n",
    "# git push Composing-Programs master\n",
    "\n",
    "from urllib.request import urlopen\n",
    "import sys\n",
    "\n",
    "shakespeare = list(urlopen('http://composingprograms.com/shakespeare.txt'))\n",
    "\n",
    "\n",
    "\n",
    "print(\"pausing here\")\n",
    "\n",
    "print(type(shakespeare))\n",
    "\n",
    "shakespeare_size = sys.getsizeof(shakespeare) + sum([sys.getsizeof(entry) for entry in shakespeare])\n",
    "\n",
    "print(sys.getsizeof(shakespeare))\n",
    "print(shakespeare_size)"
   ]
  }
 ],
 "metadata": {
  "language_info": {
   "name": "python"
  },
  "orig_nbformat": 4
 },
 "nbformat": 4,
 "nbformat_minor": 2
}
